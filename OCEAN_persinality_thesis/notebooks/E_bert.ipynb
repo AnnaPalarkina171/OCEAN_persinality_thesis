{
 "cells": [
  {
   "cell_type": "code",
   "execution_count": 1,
   "metadata": {},
   "outputs": [],
   "source": [
    "# положить веса в лосс\n",
    "# добавить части речи\n",
    "# попробовать лосс который достаестя из output \n",
    "# обучать только классификатор и заморозить берт\n",
    "# оставить скобочки но убрать их повторение"
   ]
  },
  {
   "cell_type": "code",
   "execution_count": 29,
   "metadata": {},
   "outputs": [],
   "source": [
    "from transformers import AutoModelForSequenceClassification, AutoTokenizer\n",
    "from sklearn.model_selection import train_test_split\n",
    "from sklearn.metrics import classification_report\n",
    "from sklearn.metrics import accuracy_score\n",
    "from sklearn.metrics import f1_score\n",
    "from torch.optim import AdamW\n",
    "from torch.utils import data\n",
    "from sklearn import metrics\n",
    "import torch.nn as nn\n",
    "import pandas as pd\n",
    "import numpy as np\n",
    "import argparse\n",
    "import logging\n",
    "import random\n",
    "import torch\n",
    "import tqdm\n",
    "import sys\n",
    "import os"
   ]
  },
  {
   "cell_type": "code",
   "execution_count": null,
   "metadata": {},
   "outputs": [],
   "source": [
    "# Config\n",
    "PREDICTION_COLUMN = 'Экстраверсия'\n",
    "SEED = 42\n",
    "TOKENIZER_NAME = \"DeepPavlov/rubert-base-cased\"\n",
    "MODEL_NAME = \"DeepPavlov/rubert-base-cased\"\n",
    "LENGTH_THRESHOLD = 10\n",
    "MAX_LENGTH = 80\n",
    "FREEZE = False\n",
    "BATCH_SIZE = 128\n",
    "EPOCHS = 10\n",
    "LR=1e-5"
   ]
  },
  {
   "cell_type": "code",
   "execution_count": 3,
   "metadata": {},
   "outputs": [],
   "source": [
    "def seed_everything(seed_value=42):\n",
    "    os.environ[\"PYTHONHASHSEED\"] = str(seed_value)\n",
    "    random.seed(seed_value)\n",
    "    np.random.seed(seed_value)\n",
    "    torch.manual_seed(seed_value)\n",
    "    torch.cuda.manual_seed_all(seed_value)\n",
    "    return seed_value\n",
    "\n",
    "\n",
    "logging.basicConfig(\n",
    "        format=\"%(asctime)s : %(levelname)s : %(message)s\", level=logging.INFO\n",
    "    )\n",
    "logger = logging.getLogger(__name__)"
   ]
  },
  {
   "cell_type": "code",
   "execution_count": 32,
   "metadata": {},
   "outputs": [],
   "source": [
    "dataset = pd.read_csv('../data/processed/df_tokens_ocean.csv')"
   ]
  },
  {
   "cell_type": "code",
   "execution_count": 6,
   "metadata": {},
   "outputs": [],
   "source": [
    "device = torch.device(\"cuda\" if torch.cuda.is_available() else \"cpu\")\n",
    "dataset['lengths'] = dataset.tokens.apply(lambda x: len(str(x).split()))\n",
    "if LENGTH_THRESHOLD > 0:\n",
    "    dataset = dataset.query('lengths > @LENGTH_THRESHOLD')"
   ]
  },
  {
   "cell_type": "code",
   "execution_count": 7,
   "metadata": {},
   "outputs": [],
   "source": [
    "df = dataset[['tokens', PREDICTION_COLUMN]]\n",
    "df[PREDICTION_COLUMN] = df[PREDICTION_COLUMN].apply(lambda x: int(x))\n",
    "train_data, valid_data = train_test_split(df, test_size=0.33, stratify=df[PREDICTION_COLUMN], random_state=SEED)\n",
    "valid_data, test_data = train_test_split(valid_data, test_size=0.5, stratify=valid_data[PREDICTION_COLUMN], random_state=SEED)"
   ]
  },
  {
   "cell_type": "code",
   "execution_count": 8,
   "metadata": {},
   "outputs": [
    {
     "data": {
      "text/plain": [
       "((3350, 2), (825, 2), (825, 2))"
      ]
     },
     "execution_count": 8,
     "metadata": {},
     "output_type": "execute_result"
    }
   ],
   "source": [
    "train_data.shape, valid_data.shape, test_data.shape"
   ]
  },
  {
   "cell_type": "code",
   "execution_count": 9,
   "metadata": {},
   "outputs": [
    {
     "name": "stderr",
     "output_type": "stream",
     "text": [
      "2023-04-30 22:23:16,118 : INFO : Training with seed 42...\n",
      "2023-04-30 22:23:16,120 : INFO : We have 4 classes\n"
     ]
    }
   ],
   "source": [
    "seed_everything(SEED)\n",
    "logger.info(f\"Training with seed {SEED}...\")\n",
    "\n",
    "num_classes = train_data[PREDICTION_COLUMN].nunique()\n",
    "logger.info(f\"We have {num_classes} classes\")\n",
    "tokenizer = AutoTokenizer.from_pretrained(TOKENIZER_NAME)"
   ]
  },
  {
   "cell_type": "code",
   "execution_count": 10,
   "metadata": {},
   "outputs": [],
   "source": [
    "def encoder(labels, texts, cur_tokenizer, cur_device):\n",
    "    labels_tensor = torch.tensor(labels, dtype=torch.long).to(cur_device)\n",
    "    encoding = cur_tokenizer(\n",
    "        texts,\n",
    "        return_tensors=\"pt\",\n",
    "        padding=True,\n",
    "        truncation=True,\n",
    "        max_length=MAX_LENGTH,\n",
    "    ).to(cur_device)\n",
    "    return labels_tensor, encoding"
   ]
  },
  {
   "cell_type": "code",
   "execution_count": 26,
   "metadata": {},
   "outputs": [
    {
     "name": "stderr",
     "output_type": "stream",
     "text": [
      "2023-04-30 23:26:10,528 : INFO : Tokenizing with max length 16...\n",
      "2023-04-30 23:26:10,915 : INFO : Tokenizing finished.\n"
     ]
    }
   ],
   "source": [
    "def create_ids_mask(dataset):\n",
    "    texts = dataset.tokens.to_list()\n",
    "    labels = dataset[PREDICTION_COLUMN].to_list()\n",
    "    labels_tensor, encoding = encoder(labels, texts, tokenizer, device)\n",
    "    input_ids = encoding[\"input_ids\"]\n",
    "    attention_mask = encoding[\"attention_mask\"]\n",
    "\n",
    "    return data.TensorDataset(input_ids, attention_mask, labels_tensor) \n",
    "\n",
    "logger.info(f\"Tokenizing with max length {MAX_LENGTH}...\")\n",
    "train_dataset = create_ids_mask(train_data)\n",
    "train_iter = data.DataLoader(train_dataset, batch_size=BATCH_SIZE, shuffle=False) # TRUE !!!!!\n",
    "\n",
    "dev_dataset = create_ids_mask(valid_data)\n",
    "dev_iter = data.DataLoader(dev_dataset, batch_size=BATCH_SIZE, shuffle=False)\n",
    "\n",
    "test_dataset = create_ids_mask(test_data)\n",
    "test_iter = data.DataLoader(test_dataset, batch_size=BATCH_SIZE, shuffle=False)\n",
    "logger.info(\"Tokenizing finished.\")"
   ]
  },
  {
   "cell_type": "code",
   "execution_count": 12,
   "metadata": {},
   "outputs": [
    {
     "name": "stderr",
     "output_type": "stream",
     "text": [
      "Some weights of the model checkpoint at DeepPavlov/rubert-base-cased were not used when initializing BertForSequenceClassification: ['cls.predictions.decoder.weight', 'cls.predictions.transform.LayerNorm.bias', 'cls.predictions.bias', 'cls.predictions.transform.LayerNorm.weight', 'cls.predictions.decoder.bias', 'cls.predictions.transform.dense.weight', 'cls.seq_relationship.bias', 'cls.predictions.transform.dense.bias', 'cls.seq_relationship.weight']\n",
      "- This IS expected if you are initializing BertForSequenceClassification from the checkpoint of a model trained on another task or with another architecture (e.g. initializing a BertForSequenceClassification model from a BertForPreTraining model).\n",
      "- This IS NOT expected if you are initializing BertForSequenceClassification from the checkpoint of a model that you expect to be exactly identical (initializing a BertForSequenceClassification model from a BertForSequenceClassification model).\n",
      "Some weights of BertForSequenceClassification were not initialized from the model checkpoint at DeepPavlov/rubert-base-cased and are newly initialized: ['classifier.bias', 'classifier.weight']\n",
      "You should probably TRAIN this model on a down-stream task to be able to use it for predictions and inference.\n",
      "2023-04-30 22:23:24,163 : INFO : Training with batch size 4 for 1 epochs...\n"
     ]
    },
    {
     "name": "stdout",
     "output_type": "stream",
     "text": [
      "---------------------------- Epoch 1 -----------------------------\n",
      "\n",
      "huggingface/tokenizers: The current process just got forked, after parallelism has already been used. Disabling parallelism to avoid deadlocks...\n",
      "To disable this warning, you can either:\n",
      "\t- Avoid using `tokenizers` before the fork if possible\n",
      "\t- Explicitly set the environment variable TOKENIZERS_PARALLELISM=(true | false)\n"
     ]
    },
    {
     "name": "stderr",
     "output_type": "stream",
     "text": [
      "100%|██████████| 838/838 [21:20<00:00,  1.53s/it]\n"
     ]
    },
    {
     "name": "stdout",
     "output_type": "stream",
     "text": [
      "Train loss: 1.278474917844258\n",
      "Train accuracy: 0.3397014925373134\n",
      "Train f1: 0.21324994398941258\n",
      "\n"
     ]
    },
    {
     "name": "stderr",
     "output_type": "stream",
     "text": [
      "100%|██████████| 207/207 [00:13<00:00, 15.49it/s]"
     ]
    },
    {
     "name": "stdout",
     "output_type": "stream",
     "text": [
      "Validation loss: 1.252950290262987\n",
      "Validation accuracy: 0.37333333333333335\n",
      "Validation f1: 0.2383850236507318\n",
      "              precision    recall  f1-score   support\n",
      "\n",
      "           0       0.00      0.00      0.00       171\n",
      "           1       0.36      0.74      0.49       258\n",
      "           2       0.40      0.43      0.41       262\n",
      "           3       0.33      0.03      0.05       134\n",
      "\n",
      "    accuracy                           0.37       825\n",
      "   macro avg       0.27      0.30      0.24       825\n",
      "weighted avg       0.29      0.37      0.29       825\n",
      "\n",
      "\n"
     ]
    },
    {
     "name": "stderr",
     "output_type": "stream",
     "text": [
      "\n",
      "/Users/annapalatkina/Desktop/THESIS/code/OCEAN_persinality_thesis/venv_3.10/lib/python3.10/site-packages/sklearn/metrics/_classification.py:1344: UndefinedMetricWarning: Precision and F-score are ill-defined and being set to 0.0 in labels with no predicted samples. Use `zero_division` parameter to control this behavior.\n",
      "  _warn_prf(average, modifier, msg_start, len(result))\n",
      "/Users/annapalatkina/Desktop/THESIS/code/OCEAN_persinality_thesis/venv_3.10/lib/python3.10/site-packages/sklearn/metrics/_classification.py:1344: UndefinedMetricWarning: Precision and F-score are ill-defined and being set to 0.0 in labels with no predicted samples. Use `zero_division` parameter to control this behavior.\n",
      "  _warn_prf(average, modifier, msg_start, len(result))\n",
      "/Users/annapalatkina/Desktop/THESIS/code/OCEAN_persinality_thesis/venv_3.10/lib/python3.10/site-packages/sklearn/metrics/_classification.py:1344: UndefinedMetricWarning: Precision and F-score are ill-defined and being set to 0.0 in labels with no predicted samples. Use `zero_division` parameter to control this behavior.\n",
      "  _warn_prf(average, modifier, msg_start, len(result))\n"
     ]
    }
   ],
   "source": [
    "model = AutoModelForSequenceClassification.from_pretrained(\n",
    "    MODEL_NAME, num_labels=num_classes\n",
    ").to(device)\n",
    "weights = [len(x) / len(df) for i, x in df.groupby(PREDICTION_COLUMN)]\n",
    "loss_fn = nn.CrossEntropyLoss(weight=torch.tensor(weights).to(device))\n",
    "optimizer = AdamW(model.parameters(), lr=LR)\n",
    "\n",
    "if FREEZE:\n",
    "    logger.info(\"Freezing the model, training only the classifier on top\")\n",
    "    for param in model.base_model.parameters():\n",
    "        param.requires_grad = False\n",
    "\n",
    "plot_train_losses, plot_dev_losses = [], []\n",
    "\n",
    "logger.info(f\"Training with batch size {BATCH_SIZE} for {EPOCHS} epochs...\")\n",
    "for epoch in range(EPOCHS):\n",
    "    print(f'---------------------------- Epoch {epoch+1} -----------------------------')\n",
    "    # train\n",
    "    print()\n",
    "    model.train()\n",
    "    train_losses = 0\n",
    "    y_true_train, y_pred_train = [], []\n",
    "    for input_ids, attention_mask, labels_tensor in tqdm.tqdm(train_iter):\n",
    "        optimizer.zero_grad()\n",
    "        outputs = model(\n",
    "            input_ids=input_ids, attention_mask=attention_mask, labels=labels_tensor\n",
    "        )\n",
    "        loss = loss_fn(outputs.logits, labels_tensor)\n",
    "        train_losses += loss.item()\n",
    "        loss.backward()\n",
    "        optimizer.step()\n",
    "        batch_predictions = torch.log_softmax(outputs.logits, dim=1).argmax(dim=1)\n",
    "        y_true_train += labels_tensor.tolist()\n",
    "        y_pred_train += batch_predictions.tolist()\n",
    "    accuracy_train = accuracy_score(y_true=y_true_train, y_pred=y_pred_train)\n",
    "    f1_train = f1_score(y_true=y_true_train, y_pred=y_pred_train, average=\"macro\")\n",
    "    train_loss = train_losses / len(train_iter)\n",
    "    plot_train_losses.append(train_loss)\n",
    "    print(f'Train loss: {train_loss}')\n",
    "    print(f'Train accuracy: {accuracy_train}')\n",
    "    print(f'Train f1: {f1_train}')\n",
    "    print()\n",
    "\n",
    "    # validation\n",
    "    model.eval()\n",
    "    val_losses = 0\n",
    "    y_true_val, y_pred_val = [], []\n",
    "    with torch.no_grad():\n",
    "        for input_ids, attention_mask, labels_tensor in tqdm.tqdm(dev_iter):\n",
    "            outputs = model(input_ids, attention_mask=attention_mask)\n",
    "            loss = loss_fn(outputs.logits, labels_tensor)\n",
    "            val_losses += loss.item()\n",
    "            batch_predictions = torch.log_softmax(outputs.logits, dim=1).argmax(dim=1)\n",
    "            y_true_val += labels_tensor.tolist()\n",
    "            y_pred_val += batch_predictions.tolist()\n",
    "    accuracy_dev = accuracy_score(y_true=y_true_val, y_pred=y_pred_val)\n",
    "    f1_dev = f1_score(y_true=y_true_val, y_pred=y_pred_val, average=\"macro\")\n",
    "    val_loss = val_losses / len(dev_iter)\n",
    "    plot_dev_losses.append(val_loss)\n",
    "    print(f'Validation loss: {val_loss}')\n",
    "    print(f'Validation accuracy: {accuracy_dev}')\n",
    "    print(f'Validation f1: {f1_dev}')\n",
    "    print(classification_report(y_true_val, y_pred_val))\n",
    "    print()\n"
   ]
  },
  {
   "cell_type": "code",
   "execution_count": 13,
   "metadata": {},
   "outputs": [
    {
     "data": {
      "image/png": "[encoded data removed]",
      "text/plain": [
       "<Figure size 640x480 with 1 Axes>"
      ]
     },
     "metadata": {},
     "output_type": "display_data"
    }
   ],
   "source": [
    "# importing package\n",
    "import matplotlib.pyplot as plt\n",
    "import numpy as np\n",
    "  \n",
    "# plot lines\n",
    "plt.plot(plot_train_losses, label = \"train loss\")\n",
    "plt.plot(plot_dev_losses, label = \"validation loss\")\n",
    "plt.legend()\n",
    "plt.show()"
   ]
  },
  {
   "cell_type": "code",
   "execution_count": null,
   "metadata": {},
   "outputs": [],
   "source": [
    "# test\n",
    "model.eval()\n",
    "y_true_test, y_pred_test = [], []\n",
    "with torch.no_grad():\n",
    "    for input_ids, attention_mask, labels_tensor in tqdm.tqdm(test_iter):\n",
    "        outputs = model(input_ids, attention_mask=attention_mask)\n",
    "        batch_predictions = torch.log_softmax(outputs.logits, dim=1).argmax(dim=1)\n",
    "        y_true_test += labels_tensor.tolist()\n",
    "        y_pred_test += batch_predictions.tolist()\n",
    "accuracy_test = accuracy_score(y_true=y_true_test, y_pred=y_pred_test)\n",
    "f1_test = f1_score(y_true=y_true_test, y_pred=y_pred_test, average=\"macro\")\n",
    "print(f'Test accuracy: {accuracy_test}')\n",
    "print(f'Test f1: {f1_test}')\n",
    "print(classification_report(y_true_test, y_pred_test))\n",
    "print()\n"
   ]
  },
  {
   "cell_type": "code",
   "execution_count": null,
   "metadata": {},
   "outputs": [],
   "source": []
  },
  {
   "cell_type": "code",
   "execution_count": null,
   "metadata": {},
   "outputs": [],
   "source": []
  },
  {
   "cell_type": "code",
   "execution_count": null,
   "metadata": {},
   "outputs": [],
   "source": []
  },
  {
   "cell_type": "code",
   "execution_count": null,
   "metadata": {},
   "outputs": [],
   "source": []
  }
 ],
 "metadata": {
  "kernelspec": {
   "display_name": "venv_3.10",
   "language": "python",
   "name": "venv_3.10"
  },
  "language_info": {
   "codemirror_mode": {
    "name": "ipython",
    "version": 3
   },
   "file_extension": ".py",
   "mimetype": "text/x-python",
   "name": "python",
   "nbconvert_exporter": "python",
   "pygments_lexer": "ipython3",
   "version": "3.10.4"
  },
  "orig_nbformat": 4
 },
 "nbformat": 4,
 "nbformat_minor": 2
}
